{
 "cells": [
  {
   "cell_type": "markdown",
   "metadata": {},
   "source": [
    "Load word2vec and \"global\" clusters"
   ]
  },
  {
   "cell_type": "code",
   "execution_count": 1,
   "metadata": {
    "collapsed": false
   },
   "outputs": [],
   "source": [
    "from gensim.models import KeyedVectors\n",
    "import numpy\n",
    "word2vec = KeyedVectors.load_word2vec_format(\"classifier/dataset/ruwikiruscorpora_0_300_20.bin\", binary=True)\n",
    "clusters = numpy.load(\"classifier/dataset/clusters.npy\")"
   ]
  },
  {
   "cell_type": "markdown",
   "metadata": {},
   "source": [
    "Load dataset"
   ]
  },
  {
   "cell_type": "code",
   "execution_count": 2,
   "metadata": {
    "collapsed": false
   },
   "outputs": [],
   "source": [
    "import csv\n",
    "from classifier import DatasetItem\n",
    "\n",
    "with open(\"classifier/dataset/weather.csv\", \"r\", encoding=\"utf-8\") as src:\n",
    "    data = list(csv.reader(src))\n",
    "dataset = [DatasetItem(row[0], row[1:]) for row in data]"
   ]
  },
  {
   "cell_type": "markdown",
   "metadata": {},
   "source": [
    "Initialize classifier builder"
   ]
  },
  {
   "cell_type": "code",
   "execution_count": 3,
   "metadata": {
    "collapsed": true
   },
   "outputs": [],
   "source": [
    "from classifier import W2vPosClusterTextVectorBuilder, ClassifierBuilder\n",
    "from pymorphy2 import MorphAnalyzer\n",
    "\n",
    "builder = ClassifierBuilder(word2vec, clusters, MorphAnalyzer(), dataset)"
   ]
  },
  {
   "cell_type": "markdown",
   "metadata": {},
   "source": [
    "Get nearest clusters for each class"
   ]
  },
  {
   "cell_type": "code",
   "execution_count": 4,
   "metadata": {
    "collapsed": false
   },
   "outputs": [
    {
     "data": {
      "text/plain": [
       "{'температура': array([1170, 1889, 1070, 1825, 1703]),\n",
       " 'условия': array([1889, 1170, 1319, 1070,  982])}"
      ]
     },
     "execution_count": 4,
     "metadata": {},
     "output_type": "execute_result"
    }
   ],
   "source": [
    "builder.labels_top_clusters(5)"
   ]
  },
  {
   "cell_type": "markdown",
   "metadata": {},
   "source": [
    "Print nearest words for \"nearest\" clusters"
   ]
  },
  {
   "cell_type": "code",
   "execution_count": 5,
   "metadata": {
    "collapsed": false
   },
   "outputs": [
    {
     "name": "stdout",
     "output_type": "stream",
     "text": [
      "1170 ['холод_NOUN', 'озябнуть_VERB', 'зябкий_ADJ', 'жарко_ADV', 'отогреваться_VERB', 'морозить_VERB', 'зябнуть_VERB', 'продрогнуть_VERB', 'мерзнуть_VERB', 'согреваться_VERB']\n",
      "1889 ['безветренный_ADJ', 'ветрено_ADV', 'ведренный_ADJ', 'пасмурный_ADJ', 'морозно_ADV', 'дождливо_ADV', 'облачно_ADV', 'ненастье_NOUN', 'пасмурно_ADV', 'ненастный_ADJ']\n",
      "1319 ['ливневый::дождь_NOUN', 'ветер_NOUN', 'ливень_NOUN', 'шквалистый::ветер_NOUN', 'шторм_NOUN', 'штормовой_ADJ', 'пыльный::буря_NOUN', 'циклон_NOUN', 'ураган_NOUN', 'дождь_NOUN']\n"
     ]
    }
   ],
   "source": [
    "for cluster in [1170, 1889, 1319]:\n",
    "    print(cluster, builder.cluster_words(cluster))"
   ]
  },
  {
   "cell_type": "markdown",
   "metadata": {},
   "source": [
    "For each class - build mean vector, and get mean distance between it"
   ]
  },
  {
   "cell_type": "code",
   "execution_count": 6,
   "metadata": {
    "collapsed": false
   },
   "outputs": [
    {
     "data": {
      "text/plain": [
       "0.2801143666217679"
      ]
     },
     "execution_count": 6,
     "metadata": {},
     "output_type": "execute_result"
    }
   ],
   "source": [
    "builder.class_mean_metric()"
   ]
  },
  {
   "cell_type": "markdown",
   "metadata": {},
   "source": [
    "Test classifier"
   ]
  },
  {
   "cell_type": "code",
   "execution_count": 7,
   "metadata": {
    "collapsed": false
   },
   "outputs": [
    {
     "name": "stdout",
     "output_type": "stream",
     "text": [
      "Error mean/std 0.17432 0.0578118388491\n"
     ]
    }
   ],
   "source": [
    "import random\n",
    "from sklearn.metrics import mean_squared_error\n",
    "\n",
    "split_dataset = 0.3\n",
    "dataset_indices = list(range(0, len(dataset)))\n",
    "train_before = int(split_dataset * len(dataset))\n",
    "errors = []\n",
    "morph = MorphAnalyzer()\n",
    "for i in range(0, 100):\n",
    "    random.shuffle(dataset_indices)\n",
    "    train_set = [dataset[i] for i in dataset_indices[:train_before]]\n",
    "    test_set = [dataset[i] for i in dataset_indices[:train_before]]\n",
    "    classifier = ClassifierBuilder(word2vec, clusters, morph, train_set).create_classifier([1170, 1889, 1319], 0.5)\n",
    "    test_predictions = [classifier.predict(item.text) for item in test_set]\n",
    "    test_labels = numpy.array([\n",
    "        [int(label in row.labels) for label in classifier.labels]\n",
    "        for row in test_set\n",
    "    ])\n",
    "    test_labels_predicted = numpy.array([\n",
    "        [row[label] for label in classifier.labels]\n",
    "        for row in test_predictions\n",
    "    ])\n",
    "    error = mean_squared_error(test_labels, test_labels_predicted)\n",
    "    errors.append(error)\n",
    "errors_np = numpy.array(errors)\n",
    "print(\"Error mean/std\", errors_np.mean(), errors_np.std())"
   ]
  },
  {
   "cell_type": "code",
   "execution_count": null,
   "metadata": {
    "collapsed": true
   },
   "outputs": [],
   "source": [
    ""
   ]
  }
 ],
 "metadata": {
  "kernelspec": {
   "display_name": "Python 3",
   "language": "python",
   "name": "python3"
  },
  "language_info": {
   "codemirror_mode": {
    "name": "ipython",
    "version": 3.0
   },
   "file_extension": ".py",
   "mimetype": "text/x-python",
   "name": "python",
   "nbconvert_exporter": "python",
   "pygments_lexer": "ipython3",
   "version": "3.6.0"
  }
 },
 "nbformat": 4,
 "nbformat_minor": 0
}